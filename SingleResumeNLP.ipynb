{
  "nbformat": 4,
  "nbformat_minor": 0,
  "metadata": {
    "colab": {
      "name": "SingleResumeNLP.ipynb",
      "provenance": [],
      "collapsed_sections": []
    },
    "kernelspec": {
      "name": "python3",
      "display_name": "Python 3"
    }
  },
  "cells": [
    {
      "cell_type": "code",
      "metadata": {
        "id": "i-XlTnmq9SuL",
        "colab_type": "code",
        "colab": {
          "base_uri": "https://localhost:8080/",
          "height": 207
        },
        "outputId": "6dda3a7c-9927-443c-a552-6e84eae7c38e"
      },
      "source": [
        "!pip install PyPDF2"
      ],
      "execution_count": null,
      "outputs": [
        {
          "output_type": "stream",
          "text": [
            "Collecting PyPDF2\n",
            "\u001b[?25l  Downloading https://files.pythonhosted.org/packages/b4/01/68fcc0d43daf4c6bdbc6b33cc3f77bda531c86b174cac56ef0ffdb96faab/PyPDF2-1.26.0.tar.gz (77kB)\n",
            "\r\u001b[K     |████▎                           | 10kB 16.7MB/s eta 0:00:01\r\u001b[K     |████████▌                       | 20kB 6.4MB/s eta 0:00:01\r\u001b[K     |████████████▊                   | 30kB 7.2MB/s eta 0:00:01\r\u001b[K     |█████████████████               | 40kB 5.8MB/s eta 0:00:01\r\u001b[K     |█████████████████████▏          | 51kB 6.2MB/s eta 0:00:01\r\u001b[K     |█████████████████████████▍      | 61kB 7.3MB/s eta 0:00:01\r\u001b[K     |█████████████████████████████▋  | 71kB 8.1MB/s eta 0:00:01\r\u001b[K     |████████████████████████████████| 81kB 5.0MB/s \n",
            "\u001b[?25hBuilding wheels for collected packages: PyPDF2\n",
            "  Building wheel for PyPDF2 (setup.py) ... \u001b[?25l\u001b[?25hdone\n",
            "  Created wheel for PyPDF2: filename=PyPDF2-1.26.0-cp36-none-any.whl size=61085 sha256=57ee6f13f14d0d1dfa6516ca438988b2d2d6807ee12ed456bae5de385af1023c\n",
            "  Stored in directory: /root/.cache/pip/wheels/53/84/19/35bc977c8bf5f0c23a8a011aa958acd4da4bbd7a229315c1b7\n",
            "Successfully built PyPDF2\n",
            "Installing collected packages: PyPDF2\n",
            "Successfully installed PyPDF2-1.26.0\n"
          ],
          "name": "stdout"
        }
      ]
    },
    {
      "cell_type": "code",
      "metadata": {
        "id": "Y9vs2sVo8wD1",
        "colab_type": "code",
        "colab": {}
      },
      "source": [
        "import PyPDF2\n",
        "import os\n",
        "from os import listdir\n",
        "from os.path import isfile, join\n",
        "from io import StringIO\n",
        "import pandas as pd\n",
        "from collections import Counter\n",
        "import en_core_web_sm\n",
        "nlp = en_core_web_sm.load()\n",
        "from spacy.matcher import PhraseMatcher\n"
      ],
      "execution_count": null,
      "outputs": []
    },
    {
      "cell_type": "code",
      "metadata": {
        "id": "NXttlbmM9fNa",
        "colab_type": "code",
        "colab": {}
      },
      "source": [
        "# mypath='/content/drive/My Drive/Colab Notebooks/ResumeNLP' #enter your path here where you saved the resumes\n",
        "# onlyfiles = [os.path.join(mypath, f) for f in os.listdir(mypath) if os.path.isfile(os.path.join(mypath, f))]"
      ],
      "execution_count": null,
      "outputs": []
    },
    {
      "cell_type": "code",
      "metadata": {
        "id": "Rf8YkGTNJdcT",
        "colab_type": "code",
        "colab": {
          "base_uri": "https://localhost:8080/",
          "height": 122
        },
        "outputId": "4361d652-95c4-46f2-c4bc-932d7cbdac99"
      },
      "source": [
        "from google.colab import drive\n",
        "drive.mount('/content/drive')"
      ],
      "execution_count": null,
      "outputs": [
        {
          "output_type": "stream",
          "text": [
            "Go to this URL in a browser: https://accounts.google.com/o/oauth2/auth?client_id=947318989803-6bn6qk8qdgf4n4g3pfee6491hc0brc4i.apps.googleusercontent.com&redirect_uri=urn%3aietf%3awg%3aoauth%3a2.0%3aoob&response_type=code&scope=email%20https%3a%2f%2fwww.googleapis.com%2fauth%2fdocs.test%20https%3a%2f%2fwww.googleapis.com%2fauth%2fdrive%20https%3a%2f%2fwww.googleapis.com%2fauth%2fdrive.photos.readonly%20https%3a%2f%2fwww.googleapis.com%2fauth%2fpeopleapi.readonly\n",
            "\n",
            "Enter your authorization code:\n",
            "··········\n",
            "Mounted at /content/drive\n"
          ],
          "name": "stdout"
        }
      ]
    },
    {
      "cell_type": "code",
      "metadata": {
        "id": "BmNb4xCM-B9c",
        "colab_type": "code",
        "colab": {}
      },
      "source": [
        "mypath='/content/drive/My Drive/Colab Notebooks/interns/Vakul Resume - MANOJ KUMART.pdf' #enter your path here where you saved the resumes\n",
        "# onlyfiles = [os.path.join(mypath, f) for f in os.listdir(mypath) if os.path.isfile(os.path.join(mypath, f))]\n",
        "def pdfextract(file):\n",
        "    fileReader = PyPDF2.PdfFileReader(open(file,'rb'))\n",
        "    countpage = fileReader.getNumPages()\n",
        "    count = 0\n",
        "    text = []\n",
        "    while count < countpage:    \n",
        "        pageObj = fileReader.getPage(count)\n",
        "        count +=1\n",
        "        t = pageObj.extractText()\n",
        "        print (t)\n",
        "        text.append(t)\n",
        "    return text"
      ],
      "execution_count": null,
      "outputs": []
    },
    {
      "cell_type": "code",
      "metadata": {
        "id": "EBh9n5yEdrOX",
        "colab_type": "code",
        "colab": {
          "base_uri": "https://localhost:8080/",
          "height": 163
        },
        "outputId": "d7442d88-c3ef-47dd-a6ea-baeaf8fdd491"
      },
      "source": [
        "Counter(d).items()"
      ],
      "execution_count": null,
      "outputs": [
        {
          "output_type": "error",
          "ename": "NameError",
          "evalue": "ignored",
          "traceback": [
            "\u001b[0;31m---------------------------------------------------------------------------\u001b[0m",
            "\u001b[0;31mNameError\u001b[0m                                 Traceback (most recent call last)",
            "\u001b[0;32m<ipython-input-8-bf34602bdb6d>\u001b[0m in \u001b[0;36m<module>\u001b[0;34m()\u001b[0m\n\u001b[0;32m----> 1\u001b[0;31m \u001b[0mCounter\u001b[0m\u001b[0;34m(\u001b[0m\u001b[0md\u001b[0m\u001b[0;34m)\u001b[0m\u001b[0;34m.\u001b[0m\u001b[0mitems\u001b[0m\u001b[0;34m(\u001b[0m\u001b[0;34m)\u001b[0m\u001b[0;34m\u001b[0m\u001b[0;34m\u001b[0m\u001b[0m\n\u001b[0m",
            "\u001b[0;31mNameError\u001b[0m: name 'd' is not defined"
          ]
        }
      ]
    },
    {
      "cell_type": "code",
      "metadata": {
        "id": "jr0zxSKZ3Phk",
        "colab_type": "code",
        "colab": {}
      },
      "source": [
        ""
      ],
      "execution_count": null,
      "outputs": []
    },
    {
      "cell_type": "code",
      "metadata": {
        "id": "ynm6r8bmV9qS",
        "colab_type": "code",
        "colab": {
          "base_uri": "https://localhost:8080/",
          "height": 51
        },
        "outputId": "35c96900-00f8-4202-b858-fa11145b7d89"
      },
      "source": [
        "doc=nlp(\" sentiment sentiment.\")\n",
        "for token in doc:\n",
        "  if(token.text=='sentiment'):\n",
        "    print(\"true\")"
      ],
      "execution_count": null,
      "outputs": [
        {
          "output_type": "stream",
          "text": [
            "true\n",
            "true\n"
          ],
          "name": "stdout"
        }
      ]
    },
    {
      "cell_type": "code",
      "metadata": {
        "id": "shKBKWqxs_Z6",
        "colab_type": "code",
        "colab": {
          "base_uri": "https://localhost:8080/",
          "height": 464
        },
        "outputId": "9e73f35f-f291-4902-ca0e-827e7494d695"
      },
      "source": [
        "mypath='/content/drive/My Drive/interns/Vakul Resume - MANOJ KUMART.pdf' #enter your path here where you saved the resumes\n",
        "\n",
        "# onlyfiles = [os.path.join(mypath, f) for f in os.listdir(mypath) if os.path.isfile(os.path.join(mypath, f))]\n",
        "\n",
        "def pdfextract(file):\n",
        "    # print(file)\n",
        "    fileReader = PyPDF2.PdfFileReader(open(file,'rb'))\n",
        "    countpage = fileReader.getNumPages()\n",
        "    count = 0\n",
        "    text = []\n",
        "    while count < countpage:    \n",
        "        pageObj = fileReader.getPage(count)\n",
        "        count +=1\n",
        "        t = pageObj.extractText()\n",
        "        # print (t)\n",
        "        text.append(t)\n",
        "    return text\n",
        "def create_profile(file):\n",
        "    text = pdfextract(file) \n",
        "    text = str(text)\n",
        "    text = text.replace(\"\\\\n\", \" \")\n",
        "    text = text.lower()\n",
        "    #below is the csv where we have all the keywords, you can customize your own\n",
        "\n",
        "    keyword_dict = pd.read_csv('/content/drive/My Drive/Skill Table - Sheet1.csv')\n",
        "    stats_words = [nlp(text) for text in keyword_dict['STATISTICS'].dropna(axis = 0)]\n",
        "    NLP_words = [nlp(text) for text in keyword_dict['NLP'].dropna(axis = 0)]\n",
        "    ML_words = [nlp(text) for text in keyword_dict['MACHINE LEARNING'].dropna(axis = 0)]\n",
        "    DL_words = [nlp(text) for text in keyword_dict['DEEP LEARNING'].dropna(axis = 0)]\n",
        "    R_words = [nlp(text) for text in keyword_dict['R LANGUAGE'].dropna(axis = 0)]\n",
        "    python_words = [nlp(text) for text in keyword_dict['PYTHON LANGUAGE'].dropna(axis = 0)]\n",
        "    Data_Engineering_words = [nlp(text) for text in keyword_dict['DATA ENGINEERING'].dropna(axis = 0)]\n",
        "    matcher = PhraseMatcher(nlp.vocab)\n",
        "    matcher.add('Stats', None, *stats_words)\n",
        "    matcher.add('NLP', None, *NLP_words)\n",
        "    matcher.add('ML', None, *ML_words)\n",
        "    matcher.add('DL', None, *DL_words)\n",
        "    matcher.add('R', None, *R_words)\n",
        "    matcher.add('Python', None, *python_words)\n",
        "    matcher.add('DE', None, *Data_Engineering_words)\n",
        "    doc = nlp(text)\n",
        "    d = []  \n",
        "    matches = matcher(doc)\n",
        "    for match_id, start, end in matches:\n",
        "        rule_id = nlp.vocab.strings[match_id]  # get the unicode ID, i.e. 'COLOR'\n",
        "        span = doc[start : end]  # get the matched slice of the doc\n",
        "        d.append((rule_id, span.text))      \n",
        "    keywords = \"\\n\".join(f'{i[0]} {i[1]} ({j})' for i,j in Counter(d).items())\n",
        "\n",
        "    ## convertimg string of keywords to dataframe\n",
        "    df = pd.read_csv(StringIO(keywords),names = ['Keywords_List'])\n",
        "    df1 = pd.DataFrame(df.Keywords_List.str.split(' ',1).tolist(),columns = ['Subject','Keyword'])\n",
        "    df2 = pd.DataFrame(df1.Keyword.str.split('(',1).tolist(),columns = ['Keyword', 'Count'])\n",
        "    df3 = pd.concat([df1['Subject'],df2['Keyword'], df2['Count']], axis =1) \n",
        "    df3['Count'] = df3['Count'].apply(lambda x: x.rstrip(\")\"))\n",
        "\n",
        "    base = os.path.basename(file)\n",
        "    filename = os.path.splitext(base)[0]\n",
        "        \n",
        "    name = filename.split('_')\n",
        "    name2 = name[0]\n",
        "    name2 = name2.lower()\n",
        "    ## converting str to dataframe\n",
        "    name3 = pd.read_csv(StringIO(name2),names = ['Candidate Name'])\n",
        "\n",
        "    dataf = pd.concat([name3['Candidate Name'], df3['Subject'], df3['Keyword'], df3['Count']], axis = 1)\n",
        "    dataf['Candidate Name'].fillna(dataf['Candidate Name'].iloc[0], inplace = True)\n",
        "    return dataf\n",
        "\n",
        "\n",
        "final_database=pd.DataFrame()\n",
        "i = 0 \n",
        "while i < len(mypath):\n",
        "    file = mypath\n",
        "    try:\n",
        "        dat = create_profile(file)\n",
        "    except:\n",
        "        print(\"skipped file:\", file)\n",
        "        continue\n",
        "    final_database = final_database.append(dat)\n",
        "    i +=1\n",
        "    # print(final_database)\n",
        "\n",
        "    \n",
        "#code to count words under each category and visulaize it through Matplotlib\n",
        "\n",
        "final_database2 = final_database['Keyword'].groupby([final_database['Candidate Name'], final_database['Subject']]).count().unstack()\n",
        "final_database2.reset_index(inplace = True)\n",
        "final_database2.fillna(0,inplace=True)\n",
        "new_data = final_database2.iloc[:,1:]\n",
        "new_data.index = final_database2['Candidate Name']\n",
        "#execute the below line if you want to see the candidate profile in a csv format\n",
        "sample2=new_data.to_csv('sample.csv')\n",
        "import matplotlib.pyplot as plt\n",
        "plt.rcParams.update({'font.size': 10})\n",
        "ax = new_data.plot.barh(title=\"Resume keywords by category\", legend=False, figsize=(25,7), stacked=True)\n",
        "labels = []\n",
        "for j in new_data.columns:\n",
        "    for i in new_data.index:\n",
        "        label = str(j)+\": \" + str(new_data.loc[i][j])\n",
        "        labels.append(label)\n",
        "patches = ax.patches\n",
        "for label, rect in zip(labels, patches):\n",
        "    width = rect.get_width()\n",
        "    if width > 0:\n",
        "        x = rect.get_x()\n",
        "        y = rect.get_y()\n",
        "        height = rect.get_height()\n",
        "        ax.text(x + width/2., y + height/2., label, ha='center', va='center')\n",
        "plt.show()\n",
        "            \n",
        "\n"
      ],
      "execution_count": null,
      "outputs": [
        {
          "output_type": "display_data",
          "data": {
            "image/png": "[encoded data removed]",
            "text/plain": [
              "<Figure size 1800x504 with 1 Axes>"
            ]
          },
          "metadata": {
            "tags": []
          }
        }
      ]
    },
    {
      "cell_type": "code",
      "metadata": {
        "id": "iA3vzZCYuWM1",
        "colab_type": "code",
        "colab": {}
      },
      "source": [
        "final_database2 = final_database['Keyword'].groupby([final_database['Candidate Name'], final_database['Subject']]).count().unstack()\n",
        "final_database2.reset_index(inplace = True)\n",
        "final_database2.fillna(0,inplace=True)\n",
        "new_data = final_database2.iloc[:,1:]\n",
        "new_data.index = final_database2['Candidate Name']"
      ],
      "execution_count": null,
      "outputs": []
    },
    {
      "cell_type": "code",
      "metadata": {
        "id": "JlLpm4927DfI",
        "colab_type": "code",
        "colab": {
          "base_uri": "https://localhost:8080/",
          "height": 221
        },
        "outputId": "f918b40f-af93-4b1d-a928-f1b841c8c2b9"
      },
      "source": [
        "final_database['Subject']"
      ],
      "execution_count": null,
      "outputs": [
        {
          "output_type": "execute_result",
          "data": {
            "text/plain": [
              "0    NLP\n",
              "0    NLP\n",
              "0    NLP\n",
              "0    NLP\n",
              "0    NLP\n",
              "    ... \n",
              "0    NLP\n",
              "0    NLP\n",
              "0    NLP\n",
              "0    NLP\n",
              "0    NLP\n",
              "Name: Subject, Length: 63, dtype: object"
            ]
          },
          "metadata": {
            "tags": []
          },
          "execution_count": 21
        }
      ]
    },
    {
      "cell_type": "code",
      "metadata": {
        "id": "L0AEePbsm0gj",
        "colab_type": "code",
        "colab": {
          "base_uri": "https://localhost:8080/",
          "height": 419
        },
        "outputId": "8c6d84d2-4473-4111-a189-3113b8a0d88d"
      },
      "source": [
        " final_database"
      ],
      "execution_count": null,
      "outputs": [
        {
          "output_type": "execute_result",
          "data": {
            "text/html": [
              "<div>\n",
              "<style scoped>\n",
              "    .dataframe tbody tr th:only-of-type {\n",
              "        vertical-align: middle;\n",
              "    }\n",
              "\n",
              "    .dataframe tbody tr th {\n",
              "        vertical-align: top;\n",
              "    }\n",
              "\n",
              "    .dataframe thead th {\n",
              "        text-align: right;\n",
              "    }\n",
              "</style>\n",
              "<table border=\"1\" class=\"dataframe\">\n",
              "  <thead>\n",
              "    <tr style=\"text-align: right;\">\n",
              "      <th></th>\n",
              "      <th>Candidate Name</th>\n",
              "      <th>Subject</th>\n",
              "      <th>Keyword</th>\n",
              "      <th>Count</th>\n",
              "    </tr>\n",
              "  </thead>\n",
              "  <tbody>\n",
              "    <tr>\n",
              "      <th>0</th>\n",
              "      <td>vakul resume - manoj kumart</td>\n",
              "      <td>NLP</td>\n",
              "      <td>chatbot</td>\n",
              "      <td>1</td>\n",
              "    </tr>\n",
              "    <tr>\n",
              "      <th>0</th>\n",
              "      <td>vakul resume - manoj kumart</td>\n",
              "      <td>NLP</td>\n",
              "      <td>chatbot</td>\n",
              "      <td>1</td>\n",
              "    </tr>\n",
              "    <tr>\n",
              "      <th>0</th>\n",
              "      <td>vakul resume - manoj kumart</td>\n",
              "      <td>NLP</td>\n",
              "      <td>chatbot</td>\n",
              "      <td>1</td>\n",
              "    </tr>\n",
              "    <tr>\n",
              "      <th>0</th>\n",
              "      <td>vakul resume - manoj kumart</td>\n",
              "      <td>NLP</td>\n",
              "      <td>chatbot</td>\n",
              "      <td>1</td>\n",
              "    </tr>\n",
              "    <tr>\n",
              "      <th>0</th>\n",
              "      <td>vakul resume - manoj kumart</td>\n",
              "      <td>NLP</td>\n",
              "      <td>chatbot</td>\n",
              "      <td>1</td>\n",
              "    </tr>\n",
              "    <tr>\n",
              "      <th>...</th>\n",
              "      <td>...</td>\n",
              "      <td>...</td>\n",
              "      <td>...</td>\n",
              "      <td>...</td>\n",
              "    </tr>\n",
              "    <tr>\n",
              "      <th>0</th>\n",
              "      <td>vakul resume - manoj kumart</td>\n",
              "      <td>NLP</td>\n",
              "      <td>chatbot</td>\n",
              "      <td>1</td>\n",
              "    </tr>\n",
              "    <tr>\n",
              "      <th>0</th>\n",
              "      <td>vakul resume - manoj kumart</td>\n",
              "      <td>NLP</td>\n",
              "      <td>chatbot</td>\n",
              "      <td>1</td>\n",
              "    </tr>\n",
              "    <tr>\n",
              "      <th>0</th>\n",
              "      <td>vakul resume - manoj kumart</td>\n",
              "      <td>NLP</td>\n",
              "      <td>chatbot</td>\n",
              "      <td>1</td>\n",
              "    </tr>\n",
              "    <tr>\n",
              "      <th>0</th>\n",
              "      <td>vakul resume - manoj kumart</td>\n",
              "      <td>NLP</td>\n",
              "      <td>chatbot</td>\n",
              "      <td>1</td>\n",
              "    </tr>\n",
              "    <tr>\n",
              "      <th>0</th>\n",
              "      <td>vakul resume - manoj kumart</td>\n",
              "      <td>NLP</td>\n",
              "      <td>chatbot</td>\n",
              "      <td>1</td>\n",
              "    </tr>\n",
              "  </tbody>\n",
              "</table>\n",
              "<p>63 rows × 4 columns</p>\n",
              "</div>"
            ],
            "text/plain": [
              "                 Candidate Name Subject   Keyword Count\n",
              "0   vakul resume - manoj kumart     NLP  chatbot      1\n",
              "0   vakul resume - manoj kumart     NLP  chatbot      1\n",
              "0   vakul resume - manoj kumart     NLP  chatbot      1\n",
              "0   vakul resume - manoj kumart     NLP  chatbot      1\n",
              "0   vakul resume - manoj kumart     NLP  chatbot      1\n",
              "..                          ...     ...       ...   ...\n",
              "0   vakul resume - manoj kumart     NLP  chatbot      1\n",
              "0   vakul resume - manoj kumart     NLP  chatbot      1\n",
              "0   vakul resume - manoj kumart     NLP  chatbot      1\n",
              "0   vakul resume - manoj kumart     NLP  chatbot      1\n",
              "0   vakul resume - manoj kumart     NLP  chatbot      1\n",
              "\n",
              "[63 rows x 4 columns]"
            ]
          },
          "metadata": {
            "tags": []
          },
          "execution_count": 8
        }
      ]
    }
  ]
}